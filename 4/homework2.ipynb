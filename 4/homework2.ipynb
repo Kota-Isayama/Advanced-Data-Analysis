{
 "cells": [
  {
   "cell_type": "code",
   "execution_count": 1,
   "metadata": {},
   "outputs": [
    {
     "name": "stdout",
     "output_type": "stream",
     "text": [
      "Intel MKL WARNING: Support of Intel(R) Streaming SIMD Extensions 4.2 (Intel(R) SSE4.2) enabled only processors has been deprecated. Intel oneAPI Math Kernel Library 2025.0 will require Intel(R) Advanced Vector Extensions (Intel(R) AVX) instructions.\n",
      "Intel MKL WARNING: Support of Intel(R) Streaming SIMD Extensions 4.2 (Intel(R) SSE4.2) enabled only processors has been deprecated. Intel oneAPI Math Kernel Library 2025.0 will require Intel(R) Advanced Vector Extensions (Intel(R) AVX) instructions.\n"
     ]
    }
   ],
   "source": [
    "%matplotlib inline\n",
    "import numpy as np\n",
    "import matplotlib.pyplot as plt\n",
    "from scipy.io import loadmat"
   ]
  },
  {
   "cell_type": "code",
   "execution_count": 2,
   "metadata": {},
   "outputs": [],
   "source": [
    "def get_raw_data(file_name):\n",
    "    data = loadmat(file_name)\n",
    "    train = data['X']\n",
    "    test = data['T']\n",
    "    return data, train, test\n",
    "\n",
    "def process_raw_data(x):\n",
    "    x_ = np.copy(x).transpose((2, 1, 0))\n",
    "    return x_"
   ]
  },
  {
   "cell_type": "code",
   "execution_count": 3,
   "metadata": {},
   "outputs": [],
   "source": [
    "def calc_design_matrix(x, c, h):\n",
    "    '''\n",
    "    params x: array_like, shape is (n_features, n_sapmles)\n",
    "    '''\n",
    "    print(x.shape)\n",
    "    print(c.shape)\n",
    "    print(x[:, None, :].shape)\n",
    "    print(c[None].shape)\n",
    "    print((x[:, None, :] - c[None]).shape)\n",
    "    return np.exp(((x[:, None, :] - c[None])**2).sum(axis=2) / (2 * h**2))"
   ]
  },
  {
   "cell_type": "code",
   "execution_count": 4,
   "metadata": {},
   "outputs": [],
   "source": [
    "def train_model(x, h):\n",
    "    n_category = x.shape[0]\n",
    "    Theta = np.zeros((n_category, n_category, x.shape[2]))\n",
    "    y = np.concatenate([np.ones(x.shape[1]), -np.ones(x.shape[1])])\n",
    "    for i in range(n_category):\n",
    "        for j in range(n_category):\n",
    "            if i == j:\n",
    "                continue\n",
    "            tmp_x = np.concatenate([x[i, :, :], x[j, :, :]], axis=0)\n",
    "            Phi = calc_design_matrix(tmp_x, tmp_x, h)\n",
    "            Theta[i][j] = np.linalg.solve(Phi.T.dot(Phi), Phi.t.dot(y))\n",
    "    return Theta\n",
    "\n",
    "\n",
    "\n",
    "# def train_model(x, h):\n",
    "#     '''\n",
    "#     params x: array_like, shape is (n_features, n_samples, n_categories)\n",
    "#     params h: float, hyperparameter(variance of Gaussian std error)\n",
    "#     '''\n",
    "#     tmp_x = np.copy(x).reshape(x.shape[0] * x.shape[1], -1)\n",
    "#     print(\"ok\")\n",
    "#     Phi = calc_design_matrix(tmp_x, tmp_x, h)\n",
    "#     print(\"Phi.shape: \", Phi.shape)\n",
    "#     PhiT_Phi = Phi.T.dot(Phi)\n",
    "#     Theta = np.zeros((x.shape[0], x.shape[2]))\n",
    "#     category = np.arange(0, tmp_x.shape[0]).astype(\"int32\") // x.shape[1]\n",
    "#     for i in range(x.shape[0]):\n",
    "#         y = np.where(category == i, 1.0, -1.0)\n",
    "#         Theta[i] = np.linalg.solve(PhiT_Phi, Phi.T.dot(y))\n",
    "    \n",
    "#     return Theta\n",
    "\n",
    "def pred(Theta, x):\n",
    "    '''\n",
    "    params Theta: parameters of a model learnd, (n_category, n_category, n_feature)\n",
    "    params x: data, (n_samples, n_features)\n",
    "    '''\n",
    "    p = np.zeros((x.shape[0], x.shape[1]))\n",
    "    for c in range(x.shape[0]):\n",
    "        x_c = x[c, :, :]\n",
    "        phi = calc_design_matrix(x_c, )\n",
    "        f = np.dot(Theta, x_c.T)\n",
    "        p[c,:] = np.where(f > 0, 1, 0).sum(axis=1).argmax(axis=0)\n",
    "    return p\n",
    "\n"
   ]
  },
  {
   "cell_type": "code",
   "execution_count": 5,
   "metadata": {},
   "outputs": [
    {
     "name": "stdout",
     "output_type": "stream",
     "text": [
      "(10, 500, 256)\n",
      "(10, 200, 256)\n"
     ]
    }
   ],
   "source": [
    "data_raw, train_raw, test_raw = get_raw_data(\"ADA4-digit.mat\")\n",
    "\n",
    "train = process_raw_data(train_raw)\n",
    "test = process_raw_data(test_raw)\n",
    "print(train.shape)\n",
    "print(test.shape)"
   ]
  },
  {
   "cell_type": "code",
   "execution_count": 6,
   "metadata": {},
   "outputs": [
    {
     "ename": "TypeError",
     "evalue": "calc_design_matrix() missing 1 required positional argument: 'h'",
     "output_type": "error",
     "traceback": [
      "\u001b[0;31m---------------------------------------------------------------------------\u001b[0m",
      "\u001b[0;31mTypeError\u001b[0m                                 Traceback (most recent call last)",
      "Cell \u001b[0;32mIn[6], line 1\u001b[0m\n\u001b[0;32m----> 1\u001b[0m Theta \u001b[39m=\u001b[39m train_model(train, h\u001b[39m=\u001b[39;49m\u001b[39m0.1\u001b[39;49m)\n",
      "Cell \u001b[0;32mIn[4], line 10\u001b[0m, in \u001b[0;36mtrain_model\u001b[0;34m(x, h)\u001b[0m\n\u001b[1;32m      8\u001b[0m             \u001b[39mcontinue\u001b[39;00m\n\u001b[1;32m      9\u001b[0m         tmp_x \u001b[39m=\u001b[39m np\u001b[39m.\u001b[39mconcatenate([x[i, :, :], x[j, :, :]], axis\u001b[39m=\u001b[39m\u001b[39m0\u001b[39m)\n\u001b[0;32m---> 10\u001b[0m         Phi \u001b[39m=\u001b[39m calc_design_matrix(tmp_x, h)\n\u001b[1;32m     11\u001b[0m         Theta[i][j] \u001b[39m=\u001b[39m np\u001b[39m.\u001b[39mlinalg\u001b[39m.\u001b[39msolve(Phi\u001b[39m.\u001b[39mT\u001b[39m.\u001b[39mdot(Phi), Phi\u001b[39m.\u001b[39mt\u001b[39m.\u001b[39mdot(y))\n\u001b[1;32m     12\u001b[0m \u001b[39mreturn\u001b[39;00m Theta\n",
      "\u001b[0;31mTypeError\u001b[0m: calc_design_matrix() missing 1 required positional argument: 'h'"
     ]
    }
   ],
   "source": [
    "Theta = train_model(train, h=0.1)"
   ]
  },
  {
   "cell_type": "code",
   "execution_count": null,
   "metadata": {},
   "outputs": [],
   "source": []
  }
 ],
 "metadata": {
  "kernelspec": {
   "display_name": "ADA",
   "language": "python",
   "name": "python3"
  },
  "language_info": {
   "codemirror_mode": {
    "name": "ipython",
    "version": 3
   },
   "file_extension": ".py",
   "mimetype": "text/x-python",
   "name": "python",
   "nbconvert_exporter": "python",
   "pygments_lexer": "ipython3",
   "version": "3.9.16"
  },
  "orig_nbformat": 4
 },
 "nbformat": 4,
 "nbformat_minor": 2
}
