{
 "cells": [
  {
   "cell_type": "code",
   "execution_count": 3,
   "metadata": {
    "pycharm": {
     "metadata": false,
     "name": "#%%\n"
    }
   },
   "outputs": [],
   "source": [
    "%matplotlib inline\n",
    "import numpy as np\n",
    "import matplotlib.pyplot as plt\n",
    "from scipy.io import loadmat"
   ]
  },
  {
   "cell_type": "code",
   "execution_count": 9,
   "metadata": {
    "collapsed": true,
    "jupyter": {
     "outputs_hidden": true
    },
    "pycharm": {}
   },
   "outputs": [
    {
     "name": "stdout",
     "output_type": "stream",
     "text": [
      "<class 'dict'>\n",
      "<class 'numpy.ndarray'>\n",
      "<class 'numpy.ndarray'>\n"
     ]
    }
   ],
   "source": [
    "data = loadmat('ADA4-digit.mat')\n",
    "train = data['X']\n",
    "test = data['T']\n",
    "\n",
    "print(type(data))\n",
    "print(type(train))\n",
    "print(type(test))"
   ]
  },
  {
   "cell_type": "code",
   "execution_count": 8,
   "metadata": {
    "collapsed": false,
    "jupyter": {
     "outputs_hidden": false
    },
    "pycharm": {}
   },
   "outputs": [
    {
     "name": "stdout",
     "output_type": "stream",
     "text": [
      "Train data: (256, 500, 10)\n",
      "Test data:  (256, 200, 10)\n"
     ]
    }
   ],
   "source": [
    "print(\"Train data: {}\".format(train.shape))\n",
    "print(\"Test data:  {}\".format(test.shape))"
   ]
  },
  {
   "cell_type": "code",
   "execution_count": 20,
   "metadata": {
    "collapsed": false,
    "jupyter": {
     "outputs_hidden": false
    },
    "pycharm": {}
   },
   "outputs": [
    {
     "name": "stdout",
     "output_type": "stream",
     "text": [
      "(256,)\n"
     ]
    },
    {
     "data": {
      "text/plain": [
       "array([[-0.99999988, -0.99999988, -0.99999988, ..., -0.99999988,\n",
       "        -0.99999988, -0.99999988],\n",
       "       [-0.99999988, -0.99999988, -0.99999988, ..., -0.99999988,\n",
       "        -0.99999988, -0.99999988],\n",
       "       [-0.99999988, -0.99999988, -0.99999988, ..., -0.99999988,\n",
       "        -0.99999988, -0.99998951],\n",
       "       ...,\n",
       "       [-0.99999988, -0.99999988, -0.99999988, ..., -0.99999988,\n",
       "        -0.99999988, -0.99999988],\n",
       "       [-0.99999988, -0.99999988, -0.99999988, ..., -0.99999988,\n",
       "        -0.99999988, -0.99999988],\n",
       "       [-0.99999988, -0.99999988, -0.99999988, ..., -0.99999988,\n",
       "        -0.99999988, -0.99999988]])"
      ]
     },
     "execution_count": 20,
     "metadata": {},
     "output_type": "execute_result"
    },
    {
     "data": {
      "image/png": "[encoded data removed]",
      "text/plain": [
       "<Figure size 640x480 with 1 Axes>"
      ]
     },
     "metadata": {},
     "output_type": "display_data"
    }
   ],
   "source": [
    "x=train[:, 22, 4]\n",
    "print(x.shape)\n",
    "plt.imshow(x.reshape(16, 16), 'gray')\n",
    "\n",
    "train[:,:,0]"
   ]
  },
  {
   "cell_type": "code",
   "execution_count": 21,
   "metadata": {
    "collapsed": false,
    "jupyter": {
     "outputs_hidden": false
    },
    "pycharm": {}
   },
   "outputs": [
    {
     "name": "stdout",
     "output_type": "stream",
     "text": [
      "Intel MKL WARNING: Support of Intel(R) Streaming SIMD Extensions 4.2 (Intel(R) SSE4.2) enabled only processors has been deprecated. Intel oneAPI Math Kernel Library 2025.0 will require Intel(R) Advanced Vector Extensions (Intel(R) AVX) instructions.\n",
      "Intel MKL WARNING: Support of Intel(R) Streaming SIMD Extensions 4.2 (Intel(R) SSE4.2) enabled only processors has been deprecated. Intel oneAPI Math Kernel Library 2025.0 will require Intel(R) Advanced Vector Extensions (Intel(R) AVX) instructions.\n",
      "(256, 256)\n"
     ]
    }
   ],
   "source": [
    "# Make a classifier for one and two\n",
    "mu1 = np.mean(train[:, :, 0], axis=1)\n",
    "mu2 = np.mean(train[:, :, 1], axis=1)\n",
    "S = (np.cov(train[:, :, 0]) + np.cov(train[:, :, 1])) / 2\n",
    "print(S.shape)"
   ]
  },
  {
   "cell_type": "code",
   "execution_count": 12,
   "metadata": {
    "collapsed": false,
    "jupyter": {
     "outputs_hidden": false
    },
    "pycharm": {}
   },
   "outputs": [
    {
     "name": "stdout",
     "output_type": "stream",
     "text": [
      "[-1.]\n"
     ]
    }
   ],
   "source": [
    "t = test[:, 0, 1]\n",
    "invS = np.linalg.inv(S + 0.000001 * np.identity(256))\n",
    "p1 = mu1[None, :].dot(invS).dot(t) - mu1[None, :].dot(invS).dot(mu1)/2\n",
    "p2 = mu2[None, :].dot(invS).dot(t) - mu2[None, :].dot(invS).dot(mu2)/2\n",
    "print(np.sign(p1 - p2))"
   ]
  },
  {
   "cell_type": "code",
   "execution_count": 13,
   "metadata": {
    "collapsed": false,
    "jupyter": {
     "outputs_hidden": false
    },
    "pycharm": {}
   },
   "outputs": [],
   "source": [
    "t = test[:, :, 1]\n",
    "p1 = mu1[None, :].dot(invS).dot(t) - mu1[None, :].dot(invS).dot(mu1[:, None]) / 2\n",
    "p2 = mu2[None, :].dot(invS).dot(t) - mu2[None, :].dot(invS).dot(mu2[:, None]) / 2\n",
    "result = np.sign(p1 - p2)"
   ]
  },
  {
   "cell_type": "code",
   "execution_count": 14,
   "metadata": {
    "collapsed": false,
    "jupyter": {
     "outputs_hidden": false
    },
    "pycharm": {}
   },
   "outputs": [
    {
     "name": "stdout",
     "output_type": "stream",
     "text": [
      "The number of correct prediction: 198\n",
      "The number of false prediction:   2\n"
     ]
    }
   ],
   "source": [
    "print(\"The number of correct prediction: {}\".format(np.sum(result == -1)))\n",
    "print(\"The number of false prediction:   {}\".format(np.sum(result != -1)))"
   ]
  },
  {
   "cell_type": "code",
   "execution_count": 15,
   "metadata": {
    "collapsed": false,
    "jupyter": {
     "outputs_hidden": false
    },
    "pycharm": {}
   },
   "outputs": [
    {
     "name": "stdout",
     "output_type": "stream",
     "text": [
      "[ 68 179]\n"
     ]
    }
   ],
   "source": [
    "print(np.where(result != -1)[1])"
   ]
  },
  {
   "cell_type": "code",
   "execution_count": 16,
   "metadata": {
    "collapsed": false,
    "jupyter": {
     "outputs_hidden": false
    },
    "pycharm": {}
   },
   "outputs": [
    {
     "data": {
      "text/plain": [
       "<matplotlib.image.AxesImage at 0x7f9008354940>"
      ]
     },
     "execution_count": 16,
     "metadata": {},
     "output_type": "execute_result"
    },
    {
     "data": {
      "image/png": "[encoded data removed]",
      "text/plain": [
       "<Figure size 640x480 with 1 Axes>"
      ]
     },
     "metadata": {},
     "output_type": "display_data"
    }
   ],
   "source": [
    "wrong1 = test[:, 68, 1]\n",
    "plt.imshow(wrong1.reshape(16, 16), 'gray')"
   ]
  },
  {
   "cell_type": "code",
   "execution_count": 17,
   "metadata": {
    "collapsed": false,
    "jupyter": {
     "outputs_hidden": false
    },
    "pycharm": {}
   },
   "outputs": [
    {
     "data": {
      "text/plain": [
       "<matplotlib.image.AxesImage at 0x7f90085b50a0>"
      ]
     },
     "execution_count": 17,
     "metadata": {},
     "output_type": "execute_result"
    },
    {
     "data": {
      "image/png": "[encoded data removed]",
      "text/plain": [
       "<Figure size 640x480 with 1 Axes>"
      ]
     },
     "metadata": {},
     "output_type": "display_data"
    }
   ],
   "source": [
    "wrong2 = test[:, 179, 1]\n",
    "plt.imshow(wrong2.reshape(16, 16), 'gray')"
   ]
  },
  {
   "cell_type": "code",
   "execution_count": null,
   "metadata": {
    "collapsed": true,
    "jupyter": {
     "outputs_hidden": true
    },
    "pycharm": {}
   },
   "outputs": [],
   "source": []
  }
 ],
 "metadata": {
  "anaconda-cloud": {},
  "kernelspec": {
   "display_name": "Python 3 (ipykernel)",
   "language": "python",
   "name": "python3"
  },
  "language_info": {
   "codemirror_mode": {
    "name": "ipython",
    "version": 3
   },
   "file_extension": ".py",
   "mimetype": "text/x-python",
   "name": "python",
   "nbconvert_exporter": "python",
   "pygments_lexer": "ipython3",
   "version": "3.9.16"
  },
  "stem_cell": {
   "cell_type": "raw",
   "metadata": {
    "pycharm": {
     "metadata": false
    }
   },
   "source": ""
  }
 },
 "nbformat": 4,
 "nbformat_minor": 4
}
